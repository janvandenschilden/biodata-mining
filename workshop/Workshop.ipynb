{
 "cells": [
  {
   "cell_type": "markdown",
   "metadata": {},
   "source": [
    "# 1.uniprotRetrieve"
   ]
  },
  {
   "cell_type": "code",
   "execution_count": 1,
   "metadata": {},
   "outputs": [],
   "source": [
    "from uniprotRetrieve import uniprotRetrieve\n",
    "import pandas as pd"
   ]
  },
  {
   "cell_type": "markdown",
   "metadata": {},
   "source": [
    "Based on this [API](https://www.uniprot.org/help/api%5Fqueries).\n",
    "\n",
    "Columns names are found [here](https://www.uniprot.org/help/uniprotkb_column_names)."
   ]
  },
  {
   "cell_type": "markdown",
   "metadata": {},
   "source": [
    "## Main parameters"
   ]
  },
  {
   "cell_type": "markdown",
   "metadata": {},
   "source": [
    "* **fileName**: Name of the downloaded file\n",
    "* **query**: Query as you would use it on the [uniprot site](https://www.uniprot.org/)\n",
    "* **format**: Format of file you want to download (html | tab | xls | fasta | gff | txt | xml | rdf | list | rss)"
   ]
  },
  {
   "cell_type": "markdown",
   "metadata": {},
   "source": [
    "### Example 1.1: download list of all known proteins of genus: betacoronavirus"
   ]
  },
  {
   "cell_type": "code",
   "execution_count": 2,
   "metadata": {},
   "outputs": [],
   "source": [
    "# Download list of proteins of viri in genus betacoronavirus\n",
    "fileName=\"betacoronavirus.list\"\n",
    "QUERY=\"taxonomy:betacoronavirus\"\n",
    "FORMAT=\"list\"\n",
    "\n",
    "betacoronavirusList = uniprotRetrieve(fileName, query=QUERY, format=FORMAT)"
   ]
  },
  {
   "cell_type": "code",
   "execution_count": 3,
   "metadata": {},
   "outputs": [
    {
     "name": "stdout",
     "output_type": "stream",
     "text": [
      "9603\n"
     ]
    }
   ],
   "source": [
    "# Check number of proteins\n",
    "with open(betacoronavirusList) as f:\n",
    "    print(len(f.readlines()))"
   ]
  },
  {
   "cell_type": "markdown",
   "metadata": {},
   "source": [
    "### Example 1.2 Limit results to those having an experimental structure available"
   ]
  },
  {
   "cell_type": "code",
   "execution_count": 4,
   "metadata": {},
   "outputs": [],
   "source": [
    "# Download list of proteins of viri in genus betacoronavirus\n",
    "fileName=\"betacoronavirusStructure.list\"\n",
    "QUERY=\"taxonomy:betacoronavirus database:(type:pdb)\"\n",
    "FORMAT=\"list\"\n",
    "\n",
    "betacoronavirusStructureList = uniprotRetrieve(fileName, query=QUERY, format=FORMAT)"
   ]
  },
  {
   "cell_type": "code",
   "execution_count": 5,
   "metadata": {},
   "outputs": [
    {
     "name": "stdout",
     "output_type": "stream",
     "text": [
      "69\n"
     ]
    }
   ],
   "source": [
    "# Check number of proteins\n",
    "with open(betacoronavirusStructureList) as f:\n",
    "    print(len(f.readlines()))"
   ]
  },
  {
   "cell_type": "markdown",
   "metadata": {},
   "source": [
    "### Example 1.3 Download fasta file of these sequences"
   ]
  },
  {
   "cell_type": "code",
   "execution_count": 6,
   "metadata": {},
   "outputs": [],
   "source": [
    "# Download list of proteins of viri in genus betacoronavirus\n",
    "fileName=\"betacoronavirusStructure.fasta\"\n",
    "QUERY=\"taxonomy:betacoronavirus database:(type:pdb)\"\n",
    "FORMAT=\"fasta\"\n",
    "\n",
    "betacoronavirusStructureFasta = uniprotRetrieve(fileName, query=QUERY, format=FORMAT)"
   ]
  },
  {
   "cell_type": "code",
   "execution_count": 7,
   "metadata": {},
   "outputs": [
    {
     "name": "stdout",
     "output_type": "stream",
     "text": [
      "69\n"
     ]
    }
   ],
   "source": [
    "# Check number of proteins\n",
    "with open(betacoronavirusStructureFasta) as f:\n",
    "    print(len([line for line in f.readlines() if line.startswith(\">\")]))"
   ]
  },
  {
   "cell_type": "markdown",
   "metadata": {},
   "source": [
    "### Example 1.4 Download Tab file with id, gene name, protein name, Organism, PDB identifiers"
   ]
  },
  {
   "cell_type": "code",
   "execution_count": 8,
   "metadata": {},
   "outputs": [],
   "source": [
    "# Download list of proteins of viri in genus betacoronavirus\n",
    "fileName=\"betacoronavirusStructure.tab\"\n",
    "QUERY=\"taxonomy:betacoronavirus database:(type:pdb)\"\n",
    "FORMAT=\"tab\"\n",
    "COLUMNS=\"id,genes,protein names,organism,database(pdb)\" #no spaces after ','\n",
    "\n",
    "betacoronavirusStructureTab = uniprotRetrieve(fileName, query=QUERY, format=FORMAT, columns=COLUMNS)"
   ]
  },
  {
   "cell_type": "code",
   "execution_count": 9,
   "metadata": {},
   "outputs": [
    {
     "data": {
      "text/html": [
       "<div>\n",
       "<style scoped>\n",
       "    .dataframe tbody tr th:only-of-type {\n",
       "        vertical-align: middle;\n",
       "    }\n",
       "\n",
       "    .dataframe tbody tr th {\n",
       "        vertical-align: top;\n",
       "    }\n",
       "\n",
       "    .dataframe thead th {\n",
       "        text-align: right;\n",
       "    }\n",
       "</style>\n",
       "<table border=\"1\" class=\"dataframe\">\n",
       "  <thead>\n",
       "    <tr style=\"text-align: right;\">\n",
       "      <th></th>\n",
       "      <th>Entry</th>\n",
       "      <th>Gene names</th>\n",
       "      <th>Protein names</th>\n",
       "      <th>Organism</th>\n",
       "      <th>Cross-reference (pdb)</th>\n",
       "    </tr>\n",
       "  </thead>\n",
       "  <tbody>\n",
       "    <tr>\n",
       "      <th>0</th>\n",
       "      <td>A3EX94</td>\n",
       "      <td>S 2</td>\n",
       "      <td>Spike glycoprotein (S glycoprotein) (E2) (Pepl...</td>\n",
       "      <td>Bat coronavirus HKU4 (BtCoV) (BtCoV/HKU4/2004)</td>\n",
       "      <td>4QZV;</td>\n",
       "    </tr>\n",
       "    <tr>\n",
       "      <th>1</th>\n",
       "      <td>P59595</td>\n",
       "      <td>N 9a</td>\n",
       "      <td>Nucleoprotein (Nucleocapsid protein) (NC) (Pro...</td>\n",
       "      <td>Human SARS coronavirus (SARS-CoV) (Severe acut...</td>\n",
       "      <td>1SSK;1X7Q;2CJR;2GIB;2JW8;2OFZ;2OG3;3I6L;</td>\n",
       "    </tr>\n",
       "    <tr>\n",
       "      <th>2</th>\n",
       "      <td>P33469</td>\n",
       "      <td>N 7a</td>\n",
       "      <td>Nucleoprotein (Nucleocapsid protein) (NC) (Pro...</td>\n",
       "      <td>Human coronavirus OC43 (HCoV-OC43)</td>\n",
       "      <td>4J3K;4KXJ;4LI4;4LM7;4LM9;4LMC;4LMT;</td>\n",
       "    </tr>\n",
       "    <tr>\n",
       "      <th>3</th>\n",
       "      <td>P0C6U8</td>\n",
       "      <td>1a</td>\n",
       "      <td>Replicase polyprotein 1a (pp1a) (ORF1a polypro...</td>\n",
       "      <td>Human SARS coronavirus (SARS-CoV) (Severe acut...</td>\n",
       "      <td>1P76;1P9T;1PA5;1PUK;1Q1X;1Q2W;1QZ8;1UJ1;1UK2;1...</td>\n",
       "    </tr>\n",
       "    <tr>\n",
       "      <th>4</th>\n",
       "      <td>P19738</td>\n",
       "      <td>2a</td>\n",
       "      <td>Non-structural protein 2a (ns2a) (30 kDa acces...</td>\n",
       "      <td>Murine coronavirus (strain A59) (MHV-A59) (Mur...</td>\n",
       "      <td>4Z5V;</td>\n",
       "    </tr>\n",
       "    <tr>\n",
       "      <th>...</th>\n",
       "      <td>...</td>\n",
       "      <td>...</td>\n",
       "      <td>...</td>\n",
       "      <td>...</td>\n",
       "      <td>...</td>\n",
       "    </tr>\n",
       "    <tr>\n",
       "      <th>64</th>\n",
       "      <td>W6A0A7</td>\n",
       "      <td>S</td>\n",
       "      <td>Spike glycoprotein (S glycoprotein) (E2) (Pepl...</td>\n",
       "      <td>Middle East respiratory syndrome-related coron...</td>\n",
       "      <td>4ZS6;</td>\n",
       "    </tr>\n",
       "    <tr>\n",
       "      <th>65</th>\n",
       "      <td>Q19QX1</td>\n",
       "      <td>NaN</td>\n",
       "      <td>Nonstructural polyprotein pp1a</td>\n",
       "      <td>Human SARS coronavirus (SARS-CoV) (Severe acut...</td>\n",
       "      <td>2FAV;</td>\n",
       "    </tr>\n",
       "    <tr>\n",
       "      <th>66</th>\n",
       "      <td>Q9J3E8</td>\n",
       "      <td>ORF1B</td>\n",
       "      <td>RNA-directed RNA polymerase</td>\n",
       "      <td>Murine hepatitis virus</td>\n",
       "      <td>2GTH;2GTI;</td>\n",
       "    </tr>\n",
       "    <tr>\n",
       "      <th>67</th>\n",
       "      <td>A0A0D3MU51</td>\n",
       "      <td>N</td>\n",
       "      <td>Nucleoprotein (Nucleocapsid protein) (NC) (Pro...</td>\n",
       "      <td>Middle East respiratory syndrome-related coron...</td>\n",
       "      <td>6G13;</td>\n",
       "    </tr>\n",
       "    <tr>\n",
       "      <th>68</th>\n",
       "      <td>Q6JH47</td>\n",
       "      <td>NaN</td>\n",
       "      <td>Orf1a polyprotein</td>\n",
       "      <td>SARS coronavirus Sino1-11</td>\n",
       "      <td>2K7X;</td>\n",
       "    </tr>\n",
       "  </tbody>\n",
       "</table>\n",
       "<p>69 rows × 5 columns</p>\n",
       "</div>"
      ],
      "text/plain": [
       "         Entry Gene names                                      Protein names  \\\n",
       "0       A3EX94        S 2  Spike glycoprotein (S glycoprotein) (E2) (Pepl...   \n",
       "1       P59595       N 9a  Nucleoprotein (Nucleocapsid protein) (NC) (Pro...   \n",
       "2       P33469       N 7a  Nucleoprotein (Nucleocapsid protein) (NC) (Pro...   \n",
       "3       P0C6U8         1a  Replicase polyprotein 1a (pp1a) (ORF1a polypro...   \n",
       "4       P19738         2a  Non-structural protein 2a (ns2a) (30 kDa acces...   \n",
       "..         ...        ...                                                ...   \n",
       "64      W6A0A7          S  Spike glycoprotein (S glycoprotein) (E2) (Pepl...   \n",
       "65      Q19QX1        NaN                     Nonstructural polyprotein pp1a   \n",
       "66      Q9J3E8      ORF1B                        RNA-directed RNA polymerase   \n",
       "67  A0A0D3MU51          N  Nucleoprotein (Nucleocapsid protein) (NC) (Pro...   \n",
       "68      Q6JH47        NaN                                  Orf1a polyprotein   \n",
       "\n",
       "                                             Organism  \\\n",
       "0      Bat coronavirus HKU4 (BtCoV) (BtCoV/HKU4/2004)   \n",
       "1   Human SARS coronavirus (SARS-CoV) (Severe acut...   \n",
       "2                  Human coronavirus OC43 (HCoV-OC43)   \n",
       "3   Human SARS coronavirus (SARS-CoV) (Severe acut...   \n",
       "4   Murine coronavirus (strain A59) (MHV-A59) (Mur...   \n",
       "..                                                ...   \n",
       "64  Middle East respiratory syndrome-related coron...   \n",
       "65  Human SARS coronavirus (SARS-CoV) (Severe acut...   \n",
       "66                             Murine hepatitis virus   \n",
       "67  Middle East respiratory syndrome-related coron...   \n",
       "68                          SARS coronavirus Sino1-11   \n",
       "\n",
       "                                Cross-reference (pdb)  \n",
       "0                                               4QZV;  \n",
       "1            1SSK;1X7Q;2CJR;2GIB;2JW8;2OFZ;2OG3;3I6L;  \n",
       "2                 4J3K;4KXJ;4LI4;4LM7;4LM9;4LMC;4LMT;  \n",
       "3   1P76;1P9T;1PA5;1PUK;1Q1X;1Q2W;1QZ8;1UJ1;1UK2;1...  \n",
       "4                                               4Z5V;  \n",
       "..                                                ...  \n",
       "64                                              4ZS6;  \n",
       "65                                              2FAV;  \n",
       "66                                         2GTH;2GTI;  \n",
       "67                                              6G13;  \n",
       "68                                              2K7X;  \n",
       "\n",
       "[69 rows x 5 columns]"
      ]
     },
     "execution_count": 9,
     "metadata": {},
     "output_type": "execute_result"
    }
   ],
   "source": [
    "pd.read_csv(betacoronavirusStructureTab,sep=\"\\t\")"
   ]
  },
  {
   "cell_type": "markdown",
   "metadata": {},
   "source": [
    "# 2.Blast"
   ]
  },
  {
   "cell_type": "markdown",
   "metadata": {},
   "source": [
    "API for BLAST from uniprot ([https://www.uniprot.org/blast/](https://www.uniprot.org/blast/))."
   ]
  },
  {
   "cell_type": "code",
   "execution_count": 10,
   "metadata": {},
   "outputs": [],
   "source": [
    "from blast import blast"
   ]
  },
  {
   "cell_type": "markdown",
   "metadata": {},
   "source": [
    "### Example 2.1 Download UniRef90 blast results for P0DTC7"
   ]
  },
  {
   "cell_type": "code",
   "execution_count": 11,
   "metadata": {},
   "outputs": [],
   "source": [
    "sequence=\"\"\"\n",
    ">sp|P0DTC7|NS7A_WCPV Protein 7a OS=Wuhan seafood market pneumonia virus OX=2697049 GN=7a PE=3 SV=1\n",
    "MKIILFLALITLATCELYHYQECVRGTTVLLKEPCSSGTYEGNSPFHPLADNKFALTCFS\n",
    "TQFAFACPDGVKHVYQLRARSVSPKLFIRQEEVQELYSPIFLIVAAIVFITLCFTLKRKT\n",
    "E\n",
    "\"\"\"\n",
    "FILENAME=\"P0DTC7UniRef90.list\"\n",
    "DATABASE=\"UniRef90\"\n",
    "EVALUE=0.0001\n",
    "HITS=1000\n",
    "FORMAT=\"list\"\n",
    "\n",
    "P0DTC7UniRef90List = blast(sequence,\n",
    "                            fileName=FILENAME, \n",
    "                            database=DATABASE,\n",
    "                            eValue=EVALUE,\n",
    "                            hits=HITS,\n",
    "                            format=FORMAT)"
   ]
  },
  {
   "cell_type": "markdown",
   "metadata": {},
   "source": [
    "# 3.uniprotGroupId"
   ]
  },
  {
   "cell_type": "markdown",
   "metadata": {},
   "source": [
    "API from [Retrieve/ID mapping](https://www.uniprot.org/uploadlists/) UniProt."
   ]
  },
  {
   "cell_type": "code",
   "execution_count": 12,
   "metadata": {},
   "outputs": [],
   "source": [
    "from uniprotGroupId import uniprotGroupId"
   ]
  },
  {
   "cell_type": "markdown",
   "metadata": {},
   "source": [
    "### Example 3.1 retrieve all proteins corresponding to the UniRef90 groups"
   ]
  },
  {
   "cell_type": "code",
   "execution_count": 13,
   "metadata": {},
   "outputs": [
    {
     "data": {
      "text/plain": [
       "'yourlist:M20200325A94466D2655679D1FD8953E075198DA818E269H'"
      ]
     },
     "execution_count": 13,
     "metadata": {},
     "output_type": "execute_result"
    }
   ],
   "source": [
    "PROTEINLIST=P0DTC7UniRef90List\n",
    "DATABASEFROM=\"UniRef90\"\n",
    "\n",
    "GROUPID=uniprotGroupId(PROTEINLIST,databaseFrom=DATABASEFROM)\n",
    "GROUPID"
   ]
  },
  {
   "cell_type": "code",
   "execution_count": 14,
   "metadata": {},
   "outputs": [],
   "source": [
    "fileName=\"P0DTC7UniRef90Expaned.fasta\"\n",
    "QUERY=\"yourlist:M20200324A94466D2655679D1FD8953E075198DA818A86DE length:[110 TO 130]\"\n",
    "FORMAT=\"fasta\"\n",
    "\n",
    "P0DTC7UniRef90ExpanedFasta = uniprotRetrieve(fileName, query=QUERY, format=FORMAT)"
   ]
  },
  {
   "cell_type": "markdown",
   "metadata": {},
   "source": [
    "# 4.cdhit "
   ]
  },
  {
   "cell_type": "markdown",
   "metadata": {},
   "source": [
    "API made for this [server](http://weizhong-lab.ucsd.edu/cdhit-web-server/cgi-bin/index.cgi?cmd=cd-hit)."
   ]
  },
  {
   "cell_type": "code",
   "execution_count": 15,
   "metadata": {},
   "outputs": [],
   "source": [
    "from cdhit import cdhit"
   ]
  },
  {
   "cell_type": "markdown",
   "metadata": {},
   "source": [
    "### Example 4.1 make clusters of fasta file"
   ]
  },
  {
   "cell_type": "code",
   "execution_count": 16,
   "metadata": {},
   "outputs": [],
   "source": [
    "FASTA=P0DTC7UniRef90ExpanedFasta\n",
    "CUTOFF=0.8\n",
    "\n",
    "cdHitFasta, cdHitClstr = cdhit(FASTA, cutoff=CUTOFF)"
   ]
  },
  {
   "cell_type": "markdown",
   "metadata": {},
   "source": [
    "# 5. clustalomega"
   ]
  },
  {
   "cell_type": "markdown",
   "metadata": {},
   "source": [
    "API made for this [server](https://www.ebi.ac.uk/Tools/msa/clustalo/)"
   ]
  },
  {
   "cell_type": "code",
   "execution_count": 17,
   "metadata": {},
   "outputs": [],
   "source": [
    "from clustalOmega import clustalOmega"
   ]
  },
  {
   "cell_type": "markdown",
   "metadata": {},
   "source": [
    "### Example 5.1 generate multiple sequence alignment "
   ]
  },
  {
   "cell_type": "code",
   "execution_count": 18,
   "metadata": {},
   "outputs": [],
   "source": [
    "FASTA=cdHitFasta\n",
    "OUTPUTFORMAT=\"Pearson/FASTA\"\n",
    "\n",
    "clustalOmegaFasta,clustalOmegaPim = clustalOmega(FASTA,outputFormat=OUTPUTFORMAT)"
   ]
  },
  {
   "cell_type": "code",
   "execution_count": null,
   "metadata": {},
   "outputs": [],
   "source": []
  }
 ],
 "metadata": {
  "kernelspec": {
   "display_name": "Python 3",
   "language": "python",
   "name": "python3"
  },
  "language_info": {
   "codemirror_mode": {
    "name": "ipython",
    "version": 3
   },
   "file_extension": ".py",
   "mimetype": "text/x-python",
   "name": "python",
   "nbconvert_exporter": "python",
   "pygments_lexer": "ipython3",
   "version": "3.7.5"
  }
 },
 "nbformat": 4,
 "nbformat_minor": 4
}
