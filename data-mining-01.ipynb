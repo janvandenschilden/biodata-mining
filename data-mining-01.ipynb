{
 "cells": [
  {
   "cell_type": "markdown",
   "metadata": {},
   "source": [
    "# Data Mining 01"
   ]
  },
  {
   "cell_type": "markdown",
   "metadata": {},
   "source": [
    "(Some introduction about what his tutorial will be about)"
   ]
  },
  {
   "cell_type": "markdown",
   "metadata": {},
   "source": [
    "## Uniprot"
   ]
  },
  {
   "cell_type": "markdown",
   "metadata": {},
   "source": [
    "(Some introduction about what Uniprot is, what kind of data is available)"
   ]
  },
  {
   "cell_type": "markdown",
   "metadata": {},
   "source": [
    "### API"
   ]
  },
  {
   "cell_type": "markdown",
   "metadata": {},
   "source": [
    "[Information](https://www.uniprot.org/help/api%5Fqueries)"
   ]
  },
  {
   "cell_type": "markdown",
   "metadata": {},
   "source": [
    "(Explain that there are many possibilities with this API, we are only going to download XML files)"
   ]
  },
  {
   "cell_type": "markdown",
   "metadata": {},
   "source": [
    "#### Structure of URL"
   ]
  },
  {
   "cell_type": "markdown",
   "metadata": {},
   "source": [
    "(explain BASE, QUERY, FORMAT, that there is more)"
   ]
  },
  {
   "cell_type": "code",
   "execution_count": 1,
   "metadata": {},
   "outputs": [
    {
     "name": "stdout",
     "output_type": "stream",
     "text": [
      "https://www.uniprot.org/uniprot/?query=reviewed:yes+AND+organism:\"Escherichia+coli+(strain+K12)+[83333]\"&format=xml\n"
     ]
    }
   ],
   "source": [
    "BASE=\"https://www.uniprot.org/uniprot/?\"\n",
    "FORMAT=\"xml\"\n",
    "QUERY='reviewed:yes AND organism:\"Escherichia coli (strain K12) [83333]\"'\n",
    "\n",
    "#----------------------------------------------------------------------------------------------------------\n",
    "# These three variables are combined into a URL. \n",
    "#\n",
    "# Spaced in the QUERY are replaced by the \"+\" symbol.\n",
    "#----------------------------------------------------------------------------------------------------------\n",
    "URL=BASE+\"query=\"+QUERY+\"&format=\"+FORMAT\n",
    "URL=URL.replace(\" \",\"+\")\n",
    "print(URL)"
   ]
  },
  {
   "cell_type": "markdown",
   "metadata": {},
   "source": [
    "#### Using wget to download xml"
   ]
  },
  {
   "cell_type": "markdown",
   "metadata": {},
   "source": [
    "(Some explanantion of how wget works, what it does)"
   ]
  },
  {
   "cell_type": "code",
   "execution_count": 2,
   "metadata": {},
   "outputs": [],
   "source": [
    "import os\n",
    "import requests\n",
    "\n",
    "def downloadFile(url,fileName):\n",
    "    \"\"\"\n",
    "    Give an explanation here\n",
    "    \"\"\"\n",
    "    # Remove file existing file with fileName\n",
    "    try:\n",
    "        os.remove(fileName)\n",
    "    except:\n",
    "        pass\n",
    "    \n",
    "    # Download file with url\n",
    "    with requests.get(url, stream=True) as r:\n",
    "        r.raise_for_status()\n",
    "        with open(fileName, 'wb') as f:\n",
    "            for chunk in r.iter_content(chunk_size=8192): \n",
    "                if chunk: # filter out keep-alive new chunks\n",
    "                    f.write(chunk)\n",
    "    return fileName"
   ]
  },
  {
   "cell_type": "code",
   "execution_count": 3,
   "metadata": {},
   "outputs": [],
   "source": [
    "#----------------------------------------------------------------------------------------------------------\n",
    "# INPUT for the user\n",
    "#----------------------------------------------------------------------------------------------------------\n",
    "FILENAME=\"test.xml\"\n",
    "\n",
    "\n",
    "#----------------------------------------------------------------------------------------------------------\n",
    "# The requests module will use the URL to download the xml file and store in under the name FILENAME\n",
    "#----------------------------------------------------------------------------------------------------------#urlretrieve(URL, FILENAME)\n",
    "ppiAFile = downloadFile(URL, FILENAME)"
   ]
  },
  {
   "cell_type": "markdown",
   "metadata": {},
   "source": [
    "### Structure of XML file"
   ]
  },
  {
   "cell_type": "markdown",
   "metadata": {},
   "source": [
    "(explain recursive structure and most important objects)\n",
    "(A good way to do this i by opening one on uniprot in firefox, there you can expand and collaps elements)\n",
    "1. defining an element element\n",
    "    a. start <name>\n",
    "    b. stop </name>\n",
    "2. attributes\n",
    "3. content\n",
    "    a. subelements \n",
    "    b. cdata (everying else)"
   ]
  },
  {
   "cell_type": "markdown",
   "metadata": {},
   "source": [
    "### Untangle "
   ]
  },
  {
   "cell_type": "markdown",
   "metadata": {},
   "source": [
    "(Explain how untangle transforms an xml in a python object, show in xml file and how in python)\n",
    "1. everything within an element is 1 object\n",
    "2. attribute values are called likes keys in a dictionary element[key]=value\n",
    "3. an element can contain subelements, which are called like this element.subelements\n",
    "    a. a list of subelement names can be acquired by dir(element)\n",
    "    b. when there are multiple subelements with the same name, they are stored as a list\n",
    "4. Everything that the element contains that is not a subelement or attribute is stored in element.cdata"
   ]
  },
  {
   "cell_type": "code",
   "execution_count": 4,
   "metadata": {},
   "outputs": [],
   "source": [
    "import untangle"
   ]
  },
  {
   "cell_type": "code",
   "execution_count": 5,
   "metadata": {},
   "outputs": [],
   "source": [
    "# Example of reading a xml file\n",
    "xml = untangle.parse(\"./correction.xml\")"
   ]
  },
  {
   "cell_type": "code",
   "execution_count": 22,
   "metadata": {},
   "outputs": [
    {
     "data": {
      "text/plain": [
       "['uniprot']"
      ]
     },
     "execution_count": 22,
     "metadata": {},
     "output_type": "execute_result"
    }
   ],
   "source": [
    "# List all the subelemts \n",
    "dir(xml)"
   ]
  },
  {
   "cell_type": "code",
   "execution_count": 45,
   "metadata": {},
   "outputs": [],
   "source": [
    "# call the subelement and store this in a variable\n",
    "uniprot = xml.uniprot"
   ]
  },
  {
   "cell_type": "code",
   "execution_count": 52,
   "metadata": {},
   "outputs": [
    {
     "data": {
      "text/plain": [
       "dict_keys(['xmlns', 'xmlns:xsi', 'xsi:schemaLocation'])"
      ]
     },
     "execution_count": 52,
     "metadata": {},
     "output_type": "execute_result"
    }
   ],
   "source": [
    "# print all the atrributes\n",
    "uniprot._attributes.keys()"
   ]
  },
  {
   "cell_type": "code",
   "execution_count": 53,
   "metadata": {},
   "outputs": [
    {
     "data": {
      "text/plain": [
       "'http://www.w3.org/2001/XMLSchema-instance'"
      ]
     },
     "execution_count": 53,
     "metadata": {},
     "output_type": "execute_result"
    }
   ],
   "source": [
    "# Get the value of an attribute\n",
    "uniprot['xmlns:xsi']"
   ]
  },
  {
   "cell_type": "code",
   "execution_count": 57,
   "metadata": {},
   "outputs": [
    {
     "name": "stdout",
     "output_type": "stream",
     "text": [
      "4518\n"
     ]
    }
   ],
   "source": [
    "# get a list of subelements with the same name\n",
    "entries = uniprot.entry\n",
    "print(len(entries))\n",
    "\n",
    "# extract first entry\n",
    "entry = entries[0]"
   ]
  },
  {
   "cell_type": "code",
   "execution_count": 59,
   "metadata": {},
   "outputs": [
    {
     "data": {
      "text/plain": [
       "['accession',\n",
       " 'accession',\n",
       " 'comment',\n",
       " 'comment',\n",
       " 'comment',\n",
       " 'comment',\n",
       " 'comment',\n",
       " 'comment',\n",
       " 'dbReference',\n",
       " 'dbReference',\n",
       " 'dbReference',\n",
       " 'dbReference',\n",
       " 'dbReference',\n",
       " 'dbReference',\n",
       " 'dbReference',\n",
       " 'dbReference',\n",
       " 'dbReference',\n",
       " 'dbReference',\n",
       " 'dbReference',\n",
       " 'dbReference',\n",
       " 'dbReference',\n",
       " 'dbReference',\n",
       " 'dbReference',\n",
       " 'dbReference',\n",
       " 'dbReference',\n",
       " 'dbReference',\n",
       " 'dbReference',\n",
       " 'dbReference',\n",
       " 'dbReference',\n",
       " 'dbReference',\n",
       " 'dbReference',\n",
       " 'dbReference',\n",
       " 'dbReference',\n",
       " 'dbReference',\n",
       " 'dbReference',\n",
       " 'dbReference',\n",
       " 'dbReference',\n",
       " 'dbReference',\n",
       " 'dbReference',\n",
       " 'dbReference',\n",
       " 'dbReference',\n",
       " 'dbReference',\n",
       " 'dbReference',\n",
       " 'dbReference',\n",
       " 'dbReference',\n",
       " 'dbReference',\n",
       " 'dbReference',\n",
       " 'dbReference',\n",
       " 'dbReference',\n",
       " 'dbReference',\n",
       " 'dbReference',\n",
       " 'dbReference',\n",
       " 'dbReference',\n",
       " 'dbReference',\n",
       " 'dbReference',\n",
       " 'dbReference',\n",
       " 'dbReference',\n",
       " 'dbReference',\n",
       " 'dbReference',\n",
       " 'evidence',\n",
       " 'evidence',\n",
       " 'evidence',\n",
       " 'evidence',\n",
       " 'evidence',\n",
       " 'evidence',\n",
       " 'feature',\n",
       " 'feature',\n",
       " 'feature',\n",
       " 'feature',\n",
       " 'feature',\n",
       " 'feature',\n",
       " 'feature',\n",
       " 'feature',\n",
       " 'feature',\n",
       " 'feature',\n",
       " 'feature',\n",
       " 'feature',\n",
       " 'feature',\n",
       " 'feature',\n",
       " 'feature',\n",
       " 'feature',\n",
       " 'feature',\n",
       " 'feature',\n",
       " 'feature',\n",
       " 'feature',\n",
       " 'feature',\n",
       " 'feature',\n",
       " 'feature',\n",
       " 'feature',\n",
       " 'feature',\n",
       " 'feature',\n",
       " 'feature',\n",
       " 'feature',\n",
       " 'feature',\n",
       " 'feature',\n",
       " 'feature',\n",
       " 'feature',\n",
       " 'feature',\n",
       " 'feature',\n",
       " 'feature',\n",
       " 'feature',\n",
       " 'gene',\n",
       " 'keyword',\n",
       " 'keyword',\n",
       " 'keyword',\n",
       " 'keyword',\n",
       " 'keyword',\n",
       " 'keyword',\n",
       " 'keyword',\n",
       " 'keyword',\n",
       " 'keyword',\n",
       " 'name',\n",
       " 'organism',\n",
       " 'protein',\n",
       " 'proteinExistence',\n",
       " 'reference',\n",
       " 'reference',\n",
       " 'reference',\n",
       " 'reference',\n",
       " 'reference',\n",
       " 'reference',\n",
       " 'reference',\n",
       " 'reference',\n",
       " 'sequence']"
      ]
     },
     "execution_count": 59,
     "metadata": {},
     "output_type": "execute_result"
    }
   ],
   "source": [
    "# get all the subelements of the first entry\n",
    "dir(entry)"
   ]
  },
  {
   "cell_type": "code",
   "execution_count": 60,
   "metadata": {},
   "outputs": [],
   "source": [
    "# get first accession element\n",
    "accession = entry.accession[0]"
   ]
  },
  {
   "cell_type": "code",
   "execution_count": 62,
   "metadata": {},
   "outputs": [
    {
     "data": {
      "text/plain": [
       "'P25397'"
      ]
     },
     "execution_count": 62,
     "metadata": {},
     "output_type": "execute_result"
    }
   ],
   "source": [
    "# Extract cdata from accession\n",
    "accession.cdata"
   ]
  },
  {
   "cell_type": "markdown",
   "metadata": {},
   "source": [
    "# Case study"
   ]
  },
  {
   "cell_type": "code",
   "execution_count": null,
   "metadata": {},
   "outputs": [],
   "source": []
  },
  {
   "cell_type": "code",
   "execution_count": null,
   "metadata": {},
   "outputs": [],
   "source": []
  }
 ],
 "metadata": {
  "kernelspec": {
   "display_name": "Python 3",
   "language": "python",
   "name": "python3"
  },
  "language_info": {
   "codemirror_mode": {
    "name": "ipython",
    "version": 3
   },
   "file_extension": ".py",
   "mimetype": "text/x-python",
   "name": "python",
   "nbconvert_exporter": "python",
   "pygments_lexer": "ipython3",
   "version": "3.7.5"
  }
 },
 "nbformat": 4,
 "nbformat_minor": 4
}
