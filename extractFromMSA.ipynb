{
 "cells": [
  {
   "cell_type": "markdown",
   "metadata": {},
   "source": [
    "To download information from Uniprot, as we've seen you can get all information for an entry as XML or JSON file. This is useful because it contains all available information for that protein.\n",
    "\n",
    "However, if we are only interested in a couple of features for a big list of proteins, it would be a lot of extra overhead to first download all the big files, and then pull out a small amount of data from them. Therefore, Uniprot provided the **tab** format. This a plain text file where every column depicts one feature and each row is an entry.\n",
    "You can easily parse these files with Python libraries to deal with data files like [pandas](01.b.pandas.ipynb), \n",
    "or even open them with excel. We will see how to manipulate data with Pandas in the next WPO.\n",
    "\n",
    "For a set of proteins listed in a multiple sequence alignment, we will have to provide a search query, but in addition you also have to provide a list columns you are interested in. To know which columns you can choose from, please follow this [link](https://www.uniprot.org/help/uniprotkb_column_names). As you can see, there are a lot of features, so we will have to decide which ones we will pursue for analysis."
   ]
  },
  {
   "cell_type": "code",
   "execution_count": 53,
   "metadata": {
    "Collapsed": "false",
    "collapsed": false
   },
   "outputs": [],
   "source": [
    "# Extract protein IDs from a FASTA alignment file\n",
    "def extractFastaInfo(fastaAlignment):\n",
    "  \n",
    "    \"\"\" \n",
    "    FASTA file alignment\n",
    "    \"\"\"\n",
    "\n",
    "    # Read the file    \n",
    "    fin = open(fastaAlignment)\n",
    "    lines = fin.readlines()\n",
    "    fin.close()\n",
    "\n",
    "    startReading = True\n",
    "    seqAlignments = {}\n",
    "    seqIdList = []\n",
    "    \n",
    "    for line in lines:        \n",
    "\n",
    "      cols = line.split()\n",
    "\n",
    "      if cols:\n",
    "      \n",
    "        if cols[0].startswith('>'):\n",
    "          seqId = cols[0][1:].strip()\n",
    "          seqIdList.append(seqId)\n",
    "\n",
    "        else:\n",
    "          if seqId not in seqAlignments.keys():\n",
    "            seqAlignments[seqId] = cols[0].upper()\n",
    "          else:\n",
    "            # Multiline FASTA\n",
    "            seqAlignments[seqId] += cols[0].upper()\n",
    "\n",
    "    return (seqAlignments, seqIdList)\n",
    "\n"
   ]
  },
  {
   "cell_type": "code",
   "execution_count": 54,
   "metadata": {
    "collapsed": true
   },
   "outputs": [],
   "source": [
    "# Extract protein IDs from a CLUSTAL alignment file\n",
    "def extractClustalInfo(clustalAlignment,uniqueSeqs=False):\n",
    "    \n",
    "    \"\"\"\n",
    "    CLUSTAL files\n",
    "\n",
    "    If uniqueSeqs is True, will add extra suffix to overlapping identifiers occuring more than once, so they end up separately\n",
    "    \"\"\"\n",
    "    # Read the file    \n",
    "    fin = open(clustalAlignment)\n",
    "    lines = fin.readlines()\n",
    "    fin.close()\n",
    "        \n",
    "    startReading = False\n",
    "    seqAlignments = {}\n",
    "    seqIdList = []\n",
    "\n",
    "    for line in lines:\n",
    "      \n",
    "      if line.startswith(\"CLUSTAL\"):\n",
    "        startReading = True\n",
    "        continue\n",
    "        \n",
    "      if startReading:\n",
    "        cols = line.split()\n",
    "        \n",
    "        if cols:          \n",
    "          if len(cols) in (2,3):\n",
    "\n",
    "            # Ignore lines with annotation information\n",
    "            if cols[0][0].count('*') or cols[0][0].count(\":\") or cols[0].isdigit():\n",
    "              continue\n",
    "  \n",
    "            seqId = cols[0].split(\"|\")[1]\n",
    "\n",
    "            if uniqueSeqs and seqId in seqAlignments.keys():\n",
    "              for i in range(99):\n",
    "                newSeqId = \"{}_{}\".format(seqId,i)\n",
    "                if newSeqId not in seqAlignments.keys():\n",
    "                  seqId = newSeqId\n",
    "                  break\n",
    "            \n",
    "            alignment = cols[1]\n",
    "            \n",
    "            if seqId not in seqAlignments.keys():\n",
    "              seqAlignments[seqId] = \"\"\n",
    "              seqIdList.append(seqId)\n",
    "            \n",
    "            seqAlignments[seqId] += alignment\n",
    "    return (seqAlignments, seqIdList)\n",
    "\n"
   ]
  },
  {
   "cell_type": "code",
   "execution_count": 55,
   "metadata": {
    "Collapsed": "false",
    "collapsed": false
   },
   "outputs": [
    {
     "name": "stdout",
     "output_type": "stream",
     "text": [
      "id:P00750+OR+id:A0A2R8ZEK6+OR+id:H2QW33+OR+id:G3RMM0+OR+id:Q5R8J0+OR+id:A0A2I3LNW6+OR+id:A0A2K5L072+OR+id:H2PQ69+OR+id:A0A2I3GC18+OR+id:F7BHV7\n"
     ]
    },
    {
     "ename": "AttributeError",
     "evalue": "__enter__",
     "output_type": "error",
     "traceback": [
      "\u001b[0;31m---------------------------------------------------------------------------\u001b[0m",
      "\u001b[0;31mAttributeError\u001b[0m                            Traceback (most recent call last)",
      "\u001b[0;32m<ipython-input-55-1263b4c25cf9>\u001b[0m in \u001b[0;36m<module>\u001b[0;34m()\u001b[0m\n\u001b[1;32m     19\u001b[0m \u001b[0;34m\u001b[0m\u001b[0m\n\u001b[1;32m     20\u001b[0m \u001b[0;31m# Download File\u001b[0m\u001b[0;34m\u001b[0m\u001b[0;34m\u001b[0m\u001b[0m\n\u001b[0;32m---> 21\u001b[0;31m \u001b[0muniprotDownload\u001b[0m\u001b[0;34m(\u001b[0m\u001b[0mfileName\u001b[0m\u001b[0;34m,\u001b[0m\u001b[0mquery\u001b[0m\u001b[0;34m=\u001b[0m\u001b[0mquery\u001b[0m\u001b[0;34m,\u001b[0m \u001b[0mformat\u001b[0m\u001b[0;34m=\u001b[0m\u001b[0mformat\u001b[0m\u001b[0;34m,\u001b[0m \u001b[0mcolumns\u001b[0m\u001b[0;34m=\u001b[0m\u001b[0mcolumns\u001b[0m\u001b[0;34m)\u001b[0m\u001b[0;34m\u001b[0m\u001b[0m\n\u001b[0m\u001b[1;32m     22\u001b[0m \u001b[0;34m\u001b[0m\u001b[0m\n\u001b[1;32m     23\u001b[0m \u001b[0;31m# Show with Pandas\u001b[0m\u001b[0;34m\u001b[0m\u001b[0;34m\u001b[0m\u001b[0m\n",
      "\u001b[0;32m/Users/wim/Desktop/Teaching/VUB_BiodataMining/WPO/jupyter/biodata-mining/apiFunctions.py\u001b[0m in \u001b[0;36muniprotDownload\u001b[0;34m(fileName, query, format, columns, include, compress, limit, offset)\u001b[0m\n\u001b[1;32m     99\u001b[0m                \u001b[0mlimit\u001b[0m\u001b[0;34m=\u001b[0m\u001b[0mlimit\u001b[0m\u001b[0;34m,\u001b[0m\u001b[0;34m\u001b[0m\u001b[0m\n\u001b[1;32m    100\u001b[0m                offset=offset)\n\u001b[0;32m--> 101\u001b[0;31m     \u001b[0;32mreturn\u001b[0m \u001b[0mdownloadFile\u001b[0m\u001b[0;34m(\u001b[0m\u001b[0mURL\u001b[0m\u001b[0;34m,\u001b[0m \u001b[0mfileName\u001b[0m\u001b[0;34m)\u001b[0m\u001b[0;34m\u001b[0m\u001b[0m\n\u001b[0m\u001b[1;32m    102\u001b[0m \u001b[0;34m\u001b[0m\u001b[0m\n\u001b[1;32m    103\u001b[0m \u001b[0;32mdef\u001b[0m \u001b[0menaDownload\u001b[0m\u001b[0;34m(\u001b[0m\u001b[0mfileName\u001b[0m\u001b[0;34m,\u001b[0m \u001b[0maccession\u001b[0m\u001b[0;34m,\u001b[0m \u001b[0mformat\u001b[0m\u001b[0;34m=\u001b[0m\u001b[0;34m\"fasta\"\u001b[0m\u001b[0;34m)\u001b[0m\u001b[0;34m:\u001b[0m\u001b[0;34m\u001b[0m\u001b[0m\n",
      "\u001b[0;32m/Users/wim/Desktop/Teaching/VUB_BiodataMining/WPO/jupyter/biodata-mining/apiFunctions.py\u001b[0m in \u001b[0;36mdownloadFile\u001b[0;34m(url, fileName)\u001b[0m\n\u001b[1;32m     31\u001b[0m     \u001b[0mlarge\u001b[0m \u001b[0mmemory\u001b[0m\u001b[0;34m.\u001b[0m\u001b[0;34m\u001b[0m\u001b[0m\n\u001b[1;32m     32\u001b[0m     \"\"\"\n\u001b[0;32m---> 33\u001b[0;31m     \u001b[0;32mwith\u001b[0m \u001b[0mrequests\u001b[0m\u001b[0;34m.\u001b[0m\u001b[0mget\u001b[0m\u001b[0;34m(\u001b[0m\u001b[0murl\u001b[0m\u001b[0;34m,\u001b[0m \u001b[0mstream\u001b[0m\u001b[0;34m=\u001b[0m\u001b[0;32mTrue\u001b[0m\u001b[0;34m)\u001b[0m \u001b[0;32mas\u001b[0m \u001b[0mr\u001b[0m\u001b[0;34m:\u001b[0m\u001b[0;34m\u001b[0m\u001b[0m\n\u001b[0m\u001b[1;32m     34\u001b[0m         \u001b[0mr\u001b[0m\u001b[0;34m.\u001b[0m\u001b[0mraise_for_status\u001b[0m\u001b[0;34m(\u001b[0m\u001b[0;34m)\u001b[0m\u001b[0;34m\u001b[0m\u001b[0m\n\u001b[1;32m     35\u001b[0m         \u001b[0;32mwith\u001b[0m \u001b[0mopen\u001b[0m\u001b[0;34m(\u001b[0m\u001b[0mfileName\u001b[0m\u001b[0;34m,\u001b[0m \u001b[0;34m'wb'\u001b[0m\u001b[0;34m)\u001b[0m \u001b[0;32mas\u001b[0m \u001b[0mf\u001b[0m\u001b[0;34m:\u001b[0m\u001b[0;34m\u001b[0m\u001b[0m\n",
      "\u001b[0;31mAttributeError\u001b[0m: __enter__"
     ]
    }
   ],
   "source": [
    "from apiFunctions import uniprotDownload, enaDownload\n",
    "import pandas as pd\n",
    "\n",
    "# Comment out the line below that you don't want to use, and change the filename!\n",
    "# Note that the file has to be in the same directory as this Jupyter file\n",
    "# Extract Ids from FASTA\n",
    "(seqAlignInfo,ids) = extractFastaInfo(\"fastaExample.fasta\")\n",
    "# Extract Ids from CLUSTAL\n",
    "(seqAlignInfo,ids) = extractClustalInfo(\"clustalExample.aln\")\n",
    "\n",
    "# Information for API\n",
    "fileName=\"proteins.tab\"\n",
    "query=\"id:\"+\"+OR+id:\".join(ids)\n",
    "format=\"tab\"\n",
    "\n",
    "# You can find possible columns on this page https://www.uniprot.org/help/uniprotkb_column_names\n",
    "columns=\"id,entry name,genes,organism,comment(PTM),3d,database(EMBL),database(GenBank),database(GeneID),lineage(all)\"\n",
    "\n",
    "# Download File\n",
    "uniprotDownload(fileName,query=query, format=format, columns=columns)\n",
    "\n",
    "# Show with Pandas\n",
    "proteinInfo = pd.read_csv(fileName, sep=\"\\t\").set_index(\"Entry\").sort_index()\n",
    "proteinInfo"
   ]
  },
  {
   "cell_type": "code",
   "execution_count": null,
   "metadata": {
    "Collapsed": "false",
    "collapsed": false
   },
   "outputs": [],
   "source": [
    "# Download DNA sequence for first protein\n",
    "uniprotId = ids[0]\n",
    "fileName = uniprotId+\".fasta\"\n",
    "enaId = proteinInfo.loc[uniprotId][\"Cross-reference (EMBL)\"].split(\";\")[0]\n",
    "\n",
    "print(uniprotId)\n",
    "\n",
    "#Download Fasta file\n",
    "DNAFasta = enaDownload(fileName, enaId)\n",
    "DNAFasta"
   ]
  },
  {
   "cell_type": "code",
   "execution_count": null,
   "metadata": {
    "Collapsed": "false",
    "collapsed": true
   },
   "outputs": [],
   "source": []
  }
 ],
 "metadata": {
  "kernelspec": {
   "display_name": "Python 3",
   "language": "python",
   "name": "python3"
  },
  "language_info": {
   "codemirror_mode": {
    "name": "ipython",
    "version": 3
   },
   "file_extension": ".py",
   "mimetype": "text/x-python",
   "name": "python",
   "nbconvert_exporter": "python",
   "pygments_lexer": "ipython3",
   "version": "3.6.0"
  }
 },
 "nbformat": 4,
 "nbformat_minor": 4
}
