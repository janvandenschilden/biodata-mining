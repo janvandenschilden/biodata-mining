{
 "cells": [
  {
   "cell_type": "markdown",
   "metadata": {
    "Collapsed": "false"
   },
   "source": [
    "# Some awesome title\n"
   ]
  },
  {
   "cell_type": "markdown",
   "metadata": {
    "Collapsed": "false"
   },
   "source": [
    "some awesome and inspiring introduction why using API's is so useful"
   ]
  },
  {
   "cell_type": "markdown",
   "metadata": {
    "Collapsed": "false"
   },
   "source": [
    "# Table of Content"
   ]
  },
  {
   "cell_type": "markdown",
   "metadata": {
    "Collapsed": "false"
   },
   "source": [
    "* [01. Uniprot API](01.Uniprot-API.ipynb): Some short explanation\n",
    "* [02. Clustal Omega API](02.clustalOmega-API.ipynb): Some short explanation\n",
    "* [03. PDBe API](03.PDBe-API.ipynb): Some short explanation\n",
    "* [04. InterProScan API](04.InterProScan-API.ipynb): Some short explanation\n",
    "* [05. STRING API](05.STRING-API.ipynb): Some short explanation\n",
    "* [06. Dynamine API](06.dynamine-API.ipynb): Some short explanation\n",
    "* [07. EFoldMine API](07.EFoldMine-API.ipynb): Some short explanation\n",
    "* [08. DisoMine API](08.DisoMine-API.ipynb): Some short explanation\n",
    "* [09. BLAST+ API](09.BLAST-API.ipynb): Some short explanation"
   ]
  },
  {
   "cell_type": "markdown",
   "metadata": {
    "Collapsed": "false"
   },
   "source": []
  }
 ],
 "metadata": {
  "kernelspec": {
   "display_name": "Python 3",
   "language": "python",
   "name": "python3"
  },
  "language_info": {
   "codemirror_mode": {
    "name": "ipython",
    "version": 3
   },
   "file_extension": ".py",
   "mimetype": "text/x-python",
   "name": "python",
   "nbconvert_exporter": "python",
   "pygments_lexer": "ipython3",
   "version": "3.7.4"
  }
 },
 "nbformat": 4,
 "nbformat_minor": 4
}
