{
 "cells": [
  {
   "cell_type": "markdown",
   "metadata": {
    "Collapsed": "false"
   },
   "source": [
    "# Biodata Mining"
   ]
  },
  {
   "cell_type": "markdown",
   "metadata": {
    "Collapsed": "false"
   },
   "source": [
    "(content)"
   ]
  },
  {
   "cell_type": "markdown",
   "metadata": {
    "Collapsed": "false"
   },
   "source": [
    "# Table of Content"
   ]
  },
  {
   "cell_type": "markdown",
   "metadata": {
    "Collapsed": "false"
   },
   "source": [
    "* [01. Uniprot API](01.Uniprot-API.ipynb): Some short explanation\n",
    "    - [01.a. Extracting information from XML files](01.a.XML.ipynb): (Coming Soon)\n",
    "    - [01.b. pandas](01.b.pandas.ipynb): (Coming Soon)\n",
    "* [02. Clustal Omega API](02.clustalOmega-API.ipynb): (Coming Soon)\n",
    "* [03. PDBe API](03.PDBe-API.ipynb): (Coming Soon)\n",
    "* [04. InterProScan API](04.InterProScan-API.ipynb): (Coming Soon)\n",
    "* [05. STRING API](05.STRING-API.ipynb): (Coming Soon)\n",
    "* [06. DynaMine API](06.dynamine-API.ipynb): (Coming Soon)\n",
    "* [07. EFoldMine API](07.EFoldMine-API.ipynb): (Coming Soon)\n",
    "* [08. DisoMine API](08.DisoMine-API.ipynb): (Coming Soon)\n",
    "* [09. BLAST+ API](09.BLAST-API.ipynb): (Coming Soon)"
   ]
  }
 ],
 "metadata": {
  "kernelspec": {
   "display_name": "Python 3",
   "language": "python",
   "name": "python3"
  },
  "language_info": {
   "codemirror_mode": {
    "name": "ipython",
    "version": 3
   },
   "file_extension": ".py",
   "mimetype": "text/x-python",
   "name": "python",
   "nbconvert_exporter": "python",
   "pygments_lexer": "ipython3",
   "version": "3.7.4"
  }
 },
 "nbformat": 4,
 "nbformat_minor": 4
}
