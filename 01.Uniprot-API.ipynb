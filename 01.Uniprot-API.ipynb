{
 "cells": [
  {
   "cell_type": "markdown",
   "metadata": {
    "Collapsed": "false"
   },
   "source": [
    "# 01. Uniprot API"
   ]
  },
  {
   "cell_type": "markdown",
   "metadata": {
    "Collapsed": "false"
   },
   "source": [
    "The [UniProt](https://www.uniprot.org/) knowledgebase is a large resource of protein sequences and associated detailed annotation.\n",
    "The moment this tutorial was written it contained close to 200 million sequences,\n",
    "of which more than half a million were curated by experts that critically review experimental and predicted data for each protein. [1]"
   ]
  },
  {
   "cell_type": "markdown",
   "metadata": {
    "Collapsed": "false"
   },
   "source": [
    "## How to search this database"
   ]
  },
  {
   "cell_type": "markdown",
   "metadata": {
    "Collapsed": "false"
   },
   "source": [
    "Uniprot provides a text search in which you describe the kind of data you are looking form in the form of queries. An image of how this search bar looks is given below.\n",
    "\n",
    "![](img/uniprot-search-bar.png)\n",
    "\n",
    "If this search bar is entered empty, uniprot will give back a list of all available sequences in the database. With advanced dropdown menu, it is possible to select specific fields."
   ]
  },
  {
   "cell_type": "markdown",
   "metadata": {
    "Collapsed": "false"
   },
   "source": [
    "### Example 1.1: Search on website for all human proteins"
   ]
  },
  {
   "cell_type": "markdown",
   "metadata": {
    "Collapsed": "false"
   },
   "source": [
    "Use the advanced dropdown menu and select the field \"Organism\" put in the value human and use the autocompletion to get what is shown below.\n",
    "\n",
    "![](img/uniprot-advanced-search.png)\n",
    "\n",
    "This gives the following value in the search bar,\n",
    "\n",
    "![](img/uniprot-search-human.png)\n",
    "\n",
    "and the following results.\n",
    "\n",
    "![](img/uniprot-search-human-results.png)\n",
    "\n",
    "We can use extra fields to further refine this search. \n",
    "For example, lets say we are only interested in those proteins that have a 3D structure available and are longer then 1000 amino acids.\n",
    "\n",
    "![](img/uniprot-search-human-big-structure.png)"
   ]
  },
  {
   "cell_type": "code",
   "execution_count": 9,
   "metadata": {
    "Collapsed": "false"
   },
   "outputs": [],
   "source": [
    "import os\n",
    "import requests\n",
    "\n",
    "def downloadFile(url,fileName):\n",
    "    \"\"\"\n",
    "    Downloads a file from the internet with a given url.\n",
    "    The function delete any existing files with the given filename.\n",
    "    It will then download and name the new file.\n",
    "    The function is designed to also work with very big files.\n",
    "    \n",
    "    Parameters\n",
    "    ----------\n",
    "    url : str\n",
    "        url that is needed used to download a file.\n",
    "    fileName : str\n",
    "        Name of the new file\n",
    "    \n",
    "    Returns\n",
    "    -------\n",
    "    fileName : str\n",
    "        returns the name of the new file\n",
    "    \"\"\"\n",
    "    # Delete existing files with filename\n",
    "    try:\n",
    "        os.remove(fileName) \n",
    "    except:\n",
    "        pass\n",
    "    \n",
    "    \"\"\" Use requests to download file. \n",
    "    Works with streams to be able large files without having the need of a \n",
    "    large memory.\n",
    "    \"\"\"\n",
    "    with requests.get(url, stream=True) as r:\n",
    "        r.raise_for_status()\n",
    "        with open(fileName, 'wb') as f:\n",
    "            for chunk in r.iter_content(chunk_size=8192): \n",
    "                if chunk:\n",
    "                    f.write(chunk)\n",
    "    return fileName\n",
    "\n",
    "def uniprotDownload(fileName, query=\"\",format=\"list\",columns=\"\",include=\"no\",compress=\"no\",limit=0,offset=0):\n",
    "    \"\"\"Downloads file from uniprot for given parameters\n",
    "    \n",
    "    If no parameters are given the function will download a list of all the \n",
    "    proteins ID's. More information about how the URL should be constructed can\n",
    "    be found on: \n",
    "    https://www.uniprot.org/help/api%5Fqueries\n",
    "    \n",
    "    Parameters\n",
    "    ----------\n",
    "    fileName : str\n",
    "        name for the downloaded file\n",
    "    query : str (Default='')\n",
    "        query that would be searched if as you used the webinterface on \n",
    "        https://www.uniprot.org/. If no query is provided, all protein entries\n",
    "        are selected. \n",
    "    format : str (Default='list')\n",
    "        File format you want to retrieve from uniprot. Available format are:\n",
    "        html | tab | xls | fasta | gff | txt | xml | rdf | list | rss\n",
    "    columns : str (Default='')\n",
    "        Column information you want to know for each entry in the query \n",
    "        when format tab or xls is selected.\n",
    "    include : str (Default='no')\n",
    "        Include isoform sequences when the format parameter is set to fasta.\n",
    "        Include description of referenced data when the format parameter is set to rdf.\n",
    "        This parameter is ignored for all other values of the format parameter.\n",
    "    compress : str (Default='no')\n",
    "        download file in gzipped compression format.\n",
    "    limit : int (Default=0)\n",
    "        Limit the amount of results that is given. 0 means you download all.\n",
    "    offset : int (Default=0)\n",
    "        When you limit the amount of results, offset determines where to start.\n",
    "        \n",
    "    Returns\n",
    "    -------\n",
    "    fileName : str\n",
    "        Name of the downloaeded file.\n",
    "    \"\"\"\n",
    "    def generateURL(baseURL, query=\"\",format=\"list\",columns=\"\",include=\"no\",compress=\"no\",limit=\"0\",offset=\"0\"):\n",
    "        \"\"\"Generate URL with given parameters\"\"\"\n",
    "        def glueParameters(**kwargs):\n",
    "            gluedParameters = \"\"\n",
    "            for parameter, value in kwargs.items():\n",
    "                gluedParameters+=parameter + \"=\" + str(value) + \"&\"\n",
    "            return gluedParameters.replace(\" \",\"+\")[:-1] #Last \"&\" is removed, spacec replaced by \"+\"\n",
    "        return baseURL + glueParameters(query=query,\n",
    "                                        format=format,\n",
    "                                        columns=columns,\n",
    "                                        include=include,\n",
    "                                        compress=compress,\n",
    "                                        limit=limit,\n",
    "                                        offset=offset)\n",
    "    URL = generateURL(\"https://www.uniprot.org/uniprot/?\",\n",
    "               query=query,\n",
    "               format=format,\n",
    "               columns=columns,\n",
    "               include=include,\n",
    "               compress=compress,\n",
    "               limit=limit,\n",
    "               offset=offset)\n",
    "    return downloadFile(URL, fileName)"
   ]
  },
  {
   "cell_type": "code",
   "execution_count": null,
   "metadata": {
    "Collapsed": "false"
   },
   "outputs": [],
   "source": []
  },
  {
   "cell_type": "markdown",
   "metadata": {
    "Collapsed": "false"
   },
   "source": [
    "# References\n",
    "\n",
    "[1]: UniProt: the universal protein knowledgebase. Nucleic acids research, 2017, 45.D1: D158-D169."
   ]
  },
  {
   "cell_type": "code",
   "execution_count": null,
   "metadata": {
    "Collapsed": "false"
   },
   "outputs": [],
   "source": []
  }
 ],
 "metadata": {
  "kernelspec": {
   "display_name": "Python 3",
   "language": "python",
   "name": "python3"
  },
  "language_info": {
   "codemirror_mode": {
    "name": "ipython",
    "version": 3
   },
   "file_extension": ".py",
   "mimetype": "text/x-python",
   "name": "python",
   "nbconvert_exporter": "python",
   "pygments_lexer": "ipython3",
   "version": "3.7.4"
  },
  "toc-autonumbering": false
 },
 "nbformat": 4,
 "nbformat_minor": 4
}
