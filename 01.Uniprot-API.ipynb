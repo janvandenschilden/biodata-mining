{
 "cells": [
  {
   "cell_type": "markdown",
   "metadata": {
    "Collapsed": "false"
   },
   "source": [
    "# 01. Uniprot API"
   ]
  },
  {
   "cell_type": "markdown",
   "metadata": {
    "Collapsed": "false"
   },
   "source": [
    "The [UniProt](https://www.uniprot.org/) knowledgebase is a large resource of protein sequences and associated detailed annotation.\n",
    "The moment this tutorial was written it contained close to 200 million sequences,\n",
    "of which more than half a million were curated by experts that critically review experimental and predicted data for each protein. [1]"
   ]
  },
  {
   "cell_type": "markdown",
   "metadata": {
    "Collapsed": "false"
   },
   "source": [
    "## How to search this database"
   ]
  },
  {
   "cell_type": "markdown",
   "metadata": {
    "Collapsed": "false"
   },
   "source": [
    "Uniprot provides a text search in which you describe the kind of data you are looking form in the form of queries. An image of how this search bar looks is given below.\n",
    "\n",
    "![](img/uniprot-search-bar.png)\n",
    "\n",
    "If this search bar is entered empty, uniprot will give back a list of all available sequences in the database. With advanced dropdown menu, it is possible to select specific fields."
   ]
  },
  {
   "cell_type": "markdown",
   "metadata": {
    "Collapsed": "false"
   },
   "source": [
    "### Example 1.1: Search on website for all human proteins"
   ]
  },
  {
   "cell_type": "markdown",
   "metadata": {
    "Collapsed": "false"
   },
   "source": [
    "Use the advanced dropdown menu and select the field \"Organism\" put in the value human and use the autocompletion to get what is shown below.\n",
    "\n",
    "![](img/uniprot-advanced-search.png)\n",
    "\n",
    "This gives the following value in the search bar,\n",
    "\n",
    "![](img/uniprot-search-human.png)\n",
    "\n",
    "and the following results.\n",
    "\n",
    "![](img/uniprot-search-human-results.png)\n",
    "\n",
    "We can use extra fields to further refine this search. \n",
    "For example, lets say we are only interested in those proteins that have a 3D structure available and are longer then 1000 amino acids.\n",
    "\n",
    "![](img/uniprot-search-human-big-structure.png)"
   ]
  },
  {
   "cell_type": "markdown",
   "metadata": {
    "Collapsed": "false"
   },
   "source": [
    "### Exercise 1.1.a: Search on website for all E. coli (strain K12) proteins with a signal peptide"
   ]
  },
  {
   "cell_type": "markdown",
   "metadata": {
    "Collapsed": "false"
   },
   "source": [
    "(Click dots for solution)"
   ]
  },
  {
   "cell_type": "markdown",
   "metadata": {
    "Collapsed": "false",
    "jupyter": {
     "source_hidden": true
    }
   },
   "source": [
    "```\n",
    "annotation:(type:signal) AND organism:\"Escherichia coli (strain K12) [83333]\"\n",
    "```"
   ]
  },
  {
   "cell_type": "markdown",
   "metadata": {
    "Collapsed": "false"
   },
   "source": [
    "### Exercise 1.1.b: Search on website for the protein with id P0AFL3"
   ]
  },
  {
   "cell_type": "markdown",
   "metadata": {
    "Collapsed": "false"
   },
   "source": [
    "(Click dots for solution)"
   ]
  },
  {
   "cell_type": "markdown",
   "metadata": {
    "Collapsed": "false",
    "jupyter": {
     "source_hidden": true
    }
   },
   "source": [
    "```\n",
    "id:P0AFL3\n",
    "```"
   ]
  },
  {
   "cell_type": "markdown",
   "metadata": {
    "Collapsed": "false"
   },
   "source": [
    "## Use Uniprot API to download files"
   ]
  },
  {
   "cell_type": "markdown",
   "metadata": {
    "Collapsed": "false"
   },
   "source": [
    "When you perform a query on the Uniprot website,\n",
    "you can download the results in different formats from the web page with the following button.\n",
    "\n",
    "![](img/uniprot-download.png)\n",
    "\n",
    "Simple right? Why would we need to automate this simple task with python.\n",
    "The thing is that if you want to download many different files, \n",
    "the task of filling in the query on the website and clicking the download button gets very repetitious.\n",
    "Lets say you want to download a list of protein identifiers for every protein that contains a signal peptide,\n",
    "and you want to that for 250 different organisms.\n",
    "Can you imagine yourself refilling the text search 250 times, \n",
    "pushing the download button 250 times,\n",
    "selecting the list format 250 times,\n",
    "choosing the destination on your computer 250 times ...\n",
    "You get the idea.\n",
    "It even gets worse, \n",
    "if after one week, you realize that having a signal peptide was not enough the research you are doing and the proteins also needs to have a length of at least 200 amino acids,\n",
    "you will have to redo all those steps again for 250 times.\n",
    "A python script could solve this problem in less then 10 lines of code.\n",
    "Additionally, you have your data collection method written down, \n",
    "which you could pass to other researchers if they want to recreate your dataset.\n",
    "\n",
    "So how does it work?\n",
    "Simple, uniprot requires a specific format of URL to know which data you want and then you can download this data.\n",
    "More information about the ins and outs can be found on this [link](https://www.uniprot.org/help/api%5Fqueries). \n",
    "Below I have written some functions that will generate a URL based on given parameters and download the requested file in the current working directory.\n",
    "If you are interested you can a look at them how they work, but this is not necessary.\n",
    "You can also just run the cell and skip towards the examples."
   ]
  },
  {
   "cell_type": "code",
   "execution_count": 2,
   "metadata": {
    "Collapsed": "false"
   },
   "outputs": [],
   "source": [
    "import os\n",
    "import requests\n",
    "\n",
    "def downloadFile(url,fileName):\n",
    "    \"\"\"\n",
    "    Downloads a file from the internet with a given url.\n",
    "    The function delete any existing files with the given filename.\n",
    "    It will then download and name the new file.\n",
    "    The function is designed to also work with very big files.\n",
    "    \n",
    "    Parameters\n",
    "    ----------\n",
    "    url : str\n",
    "        url that is needed used to download a file.\n",
    "    fileName : str\n",
    "        Name of the new file\n",
    "    \n",
    "    Returns\n",
    "    -------\n",
    "    fileName : str\n",
    "        returns the name of the new file\n",
    "    \"\"\"\n",
    "    # Delete existing files with filename\n",
    "    try:\n",
    "        os.remove(fileName) \n",
    "    except:\n",
    "        pass\n",
    "    \n",
    "    \"\"\" Use requests to download file. \n",
    "    Works with streams to be able large files without having the need of a \n",
    "    large memory.\n",
    "    \"\"\"\n",
    "    with requests.get(url, stream=True) as r:\n",
    "        r.raise_for_status()\n",
    "        with open(fileName, 'wb') as f:\n",
    "            for chunk in r.iter_content(chunk_size=8192): \n",
    "                if chunk:\n",
    "                    f.write(chunk)\n",
    "    return fileName\n",
    "\n",
    "def uniprotDownload(fileName, query=\"\",format=\"list\",columns=\"\",include=\"no\",compress=\"no\",limit=0,offset=0):\n",
    "    \"\"\"Downloads file from uniprot for given parameters\n",
    "    \n",
    "    If no parameters are given the function will download a list of all the \n",
    "    proteins ID's. More information about how the URL should be constructed can\n",
    "    be found on: \n",
    "    https://www.uniprot.org/help/api%5Fqueries\n",
    "    \n",
    "    Parameters\n",
    "    ----------\n",
    "    fileName : str\n",
    "        name for the downloaded file\n",
    "    query : str (Default='')\n",
    "        query that would be searched if as you used the webinterface on \n",
    "        https://www.uniprot.org/. If no query is provided, all protein entries\n",
    "        are selected. \n",
    "    format : str (Default='list')\n",
    "        File format you want to retrieve from uniprot. Available format are:\n",
    "        html | tab | xls | fasta | gff | txt | xml | rdf | list | rss\n",
    "    columns : str (Default='')\n",
    "        Column information you want to know for each entry in the query \n",
    "        when format tab or xls is selected.\n",
    "    include : str (Default='no')\n",
    "        Include isoform sequences when the format parameter is set to fasta.\n",
    "        Include description of referenced data when the format parameter is set to rdf.\n",
    "        This parameter is ignored for all other values of the format parameter.\n",
    "    compress : str (Default='no')\n",
    "        download file in gzipped compression format.\n",
    "    limit : int (Default=0)\n",
    "        Limit the amount of results that is given. 0 means you download all.\n",
    "    offset : int (Default=0)\n",
    "        When you limit the amount of results, offset determines where to start.\n",
    "        \n",
    "    Returns\n",
    "    -------\n",
    "    fileName : str\n",
    "        Name of the downloaeded file.\n",
    "    \"\"\"\n",
    "    def generateURL(baseURL, query=\"\",format=\"list\",columns=\"\",include=\"no\",compress=\"no\",limit=\"0\",offset=\"0\"):\n",
    "        \"\"\"Generate URL with given parameters\"\"\"\n",
    "        def glueParameters(**kwargs):\n",
    "            gluedParameters = \"\"\n",
    "            for parameter, value in kwargs.items():\n",
    "                gluedParameters+=parameter + \"=\" + str(value) + \"&\"\n",
    "            return gluedParameters.replace(\" \",\"+\")[:-1] #Last \"&\" is removed, spacec replaced by \"+\"\n",
    "        return baseURL + glueParameters(query=query,\n",
    "                                        format=format,\n",
    "                                        columns=columns,\n",
    "                                        include=include,\n",
    "                                        compress=compress,\n",
    "                                        limit=limit,\n",
    "                                        offset=offset)\n",
    "    URL = generateURL(\"https://www.uniprot.org/uniprot/?\",\n",
    "               query=query,\n",
    "               format=format,\n",
    "               columns=columns,\n",
    "               include=include,\n",
    "               compress=compress,\n",
    "               limit=limit,\n",
    "               offset=offset)\n",
    "    return downloadFile(URL, fileName)"
   ]
  },
  {
   "cell_type": "markdown",
   "metadata": {
    "Collapsed": "false"
   },
   "source": [
    "### example 1.2 download in list format"
   ]
  },
  {
   "cell_type": "markdown",
   "metadata": {
    "Collapsed": "false"
   },
   "source": [
    "In this example we will download a list file for all human proteins with protein length of at least 4000 amino acids.\n",
    "The list format is just a plain text file of all the protein identifiers that agree with the search query.\n",
    "Each protein identifier is unique, \n",
    "thus they can always be mapped back to the database."
   ]
  },
  {
   "cell_type": "code",
   "execution_count": 4,
   "metadata": {
    "Collapsed": "false"
   },
   "outputs": [
    {
     "data": {
      "text/plain": [
       "'humanProteins.list'"
      ]
     },
     "execution_count": 4,
     "metadata": {},
     "output_type": "execute_result"
    }
   ],
   "source": [
    "# Query as you give it in the textsearch\n",
    "QUERY='length:[4000 TO *] AND organism:\"Homo sapiens (Human) [9606]\"' \n",
    "FORMAT = 'list'                               \n",
    "filename = 'humanProteins.list'\n",
    "\n",
    "uniprotDownload(filename,format=FORMAT, query=QUERY)"
   ]
  },
  {
   "cell_type": "markdown",
   "metadata": {
    "Collapsed": "false"
   },
   "source": [
    "(In the left panel, you can click on the file to check out the content.)"
   ]
  },
  {
   "cell_type": "markdown",
   "metadata": {
    "Collapsed": "false"
   },
   "source": [
    "### Exercise 1.2.a: "
   ]
  },
  {
   "cell_type": "markdown",
   "metadata": {
    "Collapsed": "false"
   },
   "source": [
    "Download a list of all mouse proteins that are annotated to have a disulfide bond.\n",
    "(hint: use the text search on the web to find out how the query should look like)."
   ]
  },
  {
   "cell_type": "code",
   "execution_count": null,
   "metadata": {
    "Collapsed": "false"
   },
   "outputs": [],
   "source": [
    "QUERY='' \n",
    "FORMAT = ''                               \n",
    "filename = ''\n",
    "\n",
    "uniprotDownload(filename,format=FORMAT, query=QUERY)"
   ]
  },
  {
   "cell_type": "markdown",
   "metadata": {
    "Collapsed": "false"
   },
   "source": [
    "(click dots for solution)"
   ]
  },
  {
   "cell_type": "code",
   "execution_count": 5,
   "metadata": {
    "Collapsed": "false",
    "collapsed": true,
    "jupyter": {
     "outputs_hidden": true,
     "source_hidden": true
    }
   },
   "outputs": [
    {
     "data": {
      "text/plain": [
       "'mouseProteinsDisulfideBond.list'"
      ]
     },
     "execution_count": 5,
     "metadata": {},
     "output_type": "execute_result"
    }
   ],
   "source": [
    "QUERY='annotation:(type:disulfid) AND organism:\"Mus musculus (Mouse) [10090]\"' \n",
    "FORMAT = 'list'                               \n",
    "filename = 'mouseProteinsDisulfideBond.list'\n",
    "\n",
    "uniprotDownload(filename,format=FORMAT, query=QUERY)"
   ]
  },
  {
   "cell_type": "markdown",
   "metadata": {
    "Collapsed": "false"
   },
   "source": [
    "### Exercise 1.2.b: "
   ]
  },
  {
   "cell_type": "markdown",
   "metadata": {
    "Collapsed": "false"
   },
   "source": [
    "Download a list of all E. coli (K12 strain) proteins that are annotated to be DNA binding."
   ]
  },
  {
   "cell_type": "code",
   "execution_count": null,
   "metadata": {
    "Collapsed": "false"
   },
   "outputs": [],
   "source": [
    "QUERY='' \n",
    "FORMAT = ''                               \n",
    "filename = ''\n",
    "\n",
    "uniprotDownload(filename,format=FORMAT, query=QUERY)"
   ]
  },
  {
   "cell_type": "markdown",
   "metadata": {
    "Collapsed": "false"
   },
   "source": [
    "(click dots for solution)"
   ]
  },
  {
   "cell_type": "code",
   "execution_count": 6,
   "metadata": {
    "Collapsed": "false",
    "collapsed": true,
    "jupyter": {
     "outputs_hidden": true,
     "source_hidden": true
    }
   },
   "outputs": [
    {
     "data": {
      "text/plain": [
       "'EcoliDnaBinding.list'"
      ]
     },
     "execution_count": 6,
     "metadata": {},
     "output_type": "execute_result"
    }
   ],
   "source": [
    "QUERY='annotation:(type:dna_bind) AND organism:\"Escherichia coli (strain K12) [83333]\"' \n",
    "FORMAT = 'list'                               \n",
    "filename = 'EcoliDnaBinding.list'\n",
    "\n",
    "uniprotDownload(filename,format=FORMAT, query=QUERY)"
   ]
  },
  {
   "cell_type": "markdown",
   "metadata": {
    "Collapsed": "false"
   },
   "source": [
    "### Example 1.3 download in fasta format"
   ]
  },
  {
   "cell_type": "markdown",
   "metadata": {
    "Collapsed": "false"
   },
   "source": [
    "The list format is very useful if you want to keep a list of all proteins that a agree with specific query.\n",
    "However, you may want to know more about those proteins you have identified, like sequence information.\n",
    "Retrieving the primary sequence is a good starting point for further analysis.\n",
    "For example, it can be used to do:\n",
    "\n",
    "* a multiple sequence alignment ([Clustal Omega](02.clustalOmega-API.ipynb))\n",
    "* find homologues in a database ([BLAST+](09.BLAST-API.ipynb))\n",
    "* predict biophysical features\n",
    "    - [DynaMine](06.dynamine-API.ipynb)\n",
    "    - [EFoldMine](07.EFoldMine-API.ipynb)\n",
    "    - [DisoMine](08.DisoMine-API.ipynb)"
   ]
  },
  {
   "cell_type": "markdown",
   "metadata": {
    "Collapsed": "false"
   },
   "source": [
    "Below is an example of how we can use the API download all the sequences of E. coli (K12) that have been reviewed (manually curated)."
   ]
  },
  {
   "cell_type": "code",
   "execution_count": 3,
   "metadata": {
    "Collapsed": "false"
   },
   "outputs": [
    {
     "data": {
      "text/plain": [
       "'EcoliReviewed.fasta'"
      ]
     },
     "execution_count": 3,
     "metadata": {},
     "output_type": "execute_result"
    }
   ],
   "source": [
    "QUERY='reviewed:yes AND organism:\"Escherichia coli (strain K12) [83333]\"' \n",
    "FORMAT = 'fasta'                               \n",
    "filename = 'EcoliReviewed.fasta'\n",
    "\n",
    "uniprotDownload(filename,format=FORMAT, query=QUERY)"
   ]
  },
  {
   "cell_type": "markdown",
   "metadata": {
    "Collapsed": "false"
   },
   "source": [
    "(By clicking on the file in the left panel, you can have a look at it)"
   ]
  },
  {
   "cell_type": "markdown",
   "metadata": {
    "Collapsed": "false"
   },
   "source": [
    "### Exercise 1.3.a"
   ]
  },
  {
   "cell_type": "markdown",
   "metadata": {
    "Collapsed": "false"
   },
   "source": [
    "Download fasta file proteins with that contain \"ppiA\" in the gene name, but limit it to the taxon of the gammaproteobacteria."
   ]
  },
  {
   "cell_type": "code",
   "execution_count": null,
   "metadata": {
    "Collapsed": "false"
   },
   "outputs": [],
   "source": [
    "QUERY='' \n",
    "FORMAT = ''                               \n",
    "filename = ''\n",
    "\n",
    "uniprotDownload(filename,format=FORMAT, query=QUERY)"
   ]
  },
  {
   "cell_type": "markdown",
   "metadata": {
    "Collapsed": "false"
   },
   "source": [
    "Click dots for solution"
   ]
  },
  {
   "cell_type": "code",
   "execution_count": 4,
   "metadata": {
    "Collapsed": "false",
    "collapsed": true,
    "jupyter": {
     "outputs_hidden": true,
     "source_hidden": true
    }
   },
   "outputs": [
    {
     "data": {
      "text/plain": [
       "'GammaProteoBacteria_ppiA.fasta'"
      ]
     },
     "execution_count": 4,
     "metadata": {},
     "output_type": "execute_result"
    }
   ],
   "source": [
    "QUERY='gene:ppia taxonomy:\"Gammaproteobacteria [1236]\"' \n",
    "FORMAT = 'fasta'                               \n",
    "filename = 'GammaProteoBacteria_ppiA.fasta'\n",
    "\n",
    "uniprotDownload(filename,format=FORMAT, query=QUERY)"
   ]
  },
  {
   "cell_type": "markdown",
   "metadata": {
    "Collapsed": "false"
   },
   "source": [
    "### Exercise 1.3.b"
   ]
  },
  {
   "cell_type": "markdown",
   "metadata": {
    "Collapsed": "false"
   },
   "source": [
    "The organism of the Corona virus that is causing the 2020 pandemic is called **sars-cov**.\n",
    "Retrieve a fasta file of all the known proteins of the corona virus."
   ]
  },
  {
   "cell_type": "code",
   "execution_count": null,
   "metadata": {
    "Collapsed": "false"
   },
   "outputs": [],
   "source": [
    "QUERY='' \n",
    "FORMAT = ''                               \n",
    "filename = ''\n",
    "\n",
    "uniprotDownload(filename,format=FORMAT, query=QUERY)"
   ]
  },
  {
   "cell_type": "markdown",
   "metadata": {
    "Collapsed": "false"
   },
   "source": [
    "Click dots for solution"
   ]
  },
  {
   "cell_type": "code",
   "execution_count": 5,
   "metadata": {
    "Collapsed": "false",
    "collapsed": true,
    "jupyter": {
     "outputs_hidden": true,
     "source_hidden": true
    }
   },
   "outputs": [
    {
     "data": {
      "text/plain": [
       "'coronaVirus.fasta'"
      ]
     },
     "execution_count": 5,
     "metadata": {},
     "output_type": "execute_result"
    }
   ],
   "source": [
    "QUERY='organism:sars-cov' \n",
    "FORMAT = 'fasta'                               \n",
    "filename = 'coronaVirus.fasta'\n",
    "\n",
    "uniprotDownload(filename,format=FORMAT, query=QUERY)"
   ]
  },
  {
   "cell_type": "markdown",
   "metadata": {
    "Collapsed": "false"
   },
   "source": [
    "### Example 1.4 download in XML format"
   ]
  },
  {
   "cell_type": "markdown",
   "metadata": {
    "Collapsed": "false"
   },
   "source": [
    "Until now, we have only downloaded protein identifiers and sequential information.\n",
    "However, if you look at protein page on Uniprot (e.g. [P59632](https://www.uniprot.org/uniprot/P59632), protein 3a human SARS coronavirus),\n",
    "you see there is much more information available.\n",
    "To access this information computationally, we will download it xml format.\n",
    "More information about the structure of xml files and how to access them with python can be found in [this tutorial](01.a.XML.ipynb).\n",
    "\n",
    "Below, the code is shown to download information in xml format about protein **P59632**."
   ]
  },
  {
   "cell_type": "code",
   "execution_count": 6,
   "metadata": {
    "Collapsed": "false"
   },
   "outputs": [
    {
     "data": {
      "text/plain": [
       "'coronaVirusP59632.xml'"
      ]
     },
     "execution_count": 6,
     "metadata": {},
     "output_type": "execute_result"
    }
   ],
   "source": [
    "QUERY='id:P59632' \n",
    "FORMAT = 'xml'                               \n",
    "filename = 'coronaVirusP59632.xml'\n",
    "\n",
    "uniprotDownload(filename,format=FORMAT, query=QUERY)"
   ]
  },
  {
   "cell_type": "markdown",
   "metadata": {
    "Collapsed": "false"
   },
   "source": [
    "Click in the panel on the left on the file to take a look at it.\n",
    "Try to map the information on the webpage to the corresponding information in the xml file."
   ]
  },
  {
   "cell_type": "markdown",
   "metadata": {
    "Collapsed": "false"
   },
   "source": [
    "### Exercise 1.4.a "
   ]
  },
  {
   "cell_type": "markdown",
   "metadata": {
    "Collapsed": "false"
   },
   "source": [
    "Download a xml file that contains information about all the corona virus proteins that have been reviewed."
   ]
  },
  {
   "cell_type": "code",
   "execution_count": null,
   "metadata": {
    "Collapsed": "false"
   },
   "outputs": [],
   "source": [
    "QUERY='' \n",
    "FORMAT = ''                               \n",
    "filename = ''\n",
    "\n",
    "uniprotDownload(filename,format=FORMAT, query=QUERY)"
   ]
  },
  {
   "cell_type": "markdown",
   "metadata": {
    "Collapsed": "false"
   },
   "source": [
    "Click dots for solution"
   ]
  },
  {
   "cell_type": "code",
   "execution_count": 7,
   "metadata": {
    "Collapsed": "false",
    "collapsed": true,
    "jupyter": {
     "outputs_hidden": true,
     "source_hidden": true
    }
   },
   "outputs": [
    {
     "data": {
      "text/plain": [
       "'coronaVirusReviewed.xml'"
      ]
     },
     "execution_count": 7,
     "metadata": {},
     "output_type": "execute_result"
    }
   ],
   "source": [
    "QUERY='organism:sars-cov AND reviewed:yes' \n",
    "FORMAT = 'xml'                               \n",
    "filename = 'coronaVirusReviewed.xml'\n",
    "\n",
    "uniprotDownload(filename,format=FORMAT, query=QUERY)"
   ]
  },
  {
   "cell_type": "markdown",
   "metadata": {
    "Collapsed": "false"
   },
   "source": [
    "### Exercise 1.4.b"
   ]
  },
  {
   "cell_type": "markdown",
   "metadata": {
    "Collapsed": "false"
   },
   "source": [
    "Other variants of the corona virus come from the **Coronaviridae** family.\n",
    "Lets say we want to compare **protein 3a** from the different organisms within this family with each other.\n",
    "Download a xml file that contains all the proteins with the name **\"protein 3a\"** within the **CoronaViridae** family."
   ]
  },
  {
   "cell_type": "code",
   "execution_count": null,
   "metadata": {
    "Collapsed": "false"
   },
   "outputs": [],
   "source": [
    "QUERY='' \n",
    "FORMAT = ''                               \n",
    "filename = ''\n",
    "\n",
    "uniprotDownload(filename,format=FORMAT, query=QUERY)"
   ]
  },
  {
   "cell_type": "markdown",
   "metadata": {
    "Collapsed": "false"
   },
   "source": [
    "Click dots for solution"
   ]
  },
  {
   "cell_type": "code",
   "execution_count": 8,
   "metadata": {
    "Collapsed": "false",
    "collapsed": true,
    "jupyter": {
     "outputs_hidden": true,
     "source_hidden": true
    }
   },
   "outputs": [
    {
     "data": {
      "text/plain": [
       "'coronaFamilyProtein3a.xml'"
      ]
     },
     "execution_count": 8,
     "metadata": {},
     "output_type": "execute_result"
    }
   ],
   "source": [
    "QUERY='taxonomy:\"Coronaviridae [11118]\" name:\"protein 3a\"' \n",
    "FORMAT = 'xml'                               \n",
    "filename = 'coronaFamilyProtein3a.xml'\n",
    "\n",
    "uniprotDownload(filename,format=FORMAT, query=QUERY)"
   ]
  },
  {
   "cell_type": "markdown",
   "metadata": {
    "Collapsed": "false"
   },
   "source": [
    "### Example 1.5 Download in tab format"
   ]
  },
  {
   "cell_type": "markdown",
   "metadata": {
    "Collapsed": "false"
   },
   "source": [
    "XML files are useful because they contain a lot of information.\n",
    "However sometimes, we are only interested in a couple of features for a big list of proteins.\n",
    "Even though you can find these features in the xml file,\n",
    "you will first have to download a very big file out of which you will only use a limited number of features.\n",
    "Therefore, Uniprot provided the **tab** format.\n",
    "This a plain text file where every column depict one feature and each row is an entry.\n",
    "You can easily parse them with libraries like [pandas](01.b.pandas.ipynb), \n",
    "or even open them with excel.\n",
    "\n",
    "Lets say for we want a list of all human proteins that have been reviewed,\n",
    "but for each entry, we only want to know the \n",
    "\n",
    "* id \n",
    "* protein length \n",
    "* protein name \n",
    "* gene name \n",
    "* protein localization.\n",
    "\n",
    "As in previous examples we will have to provide a search query,\n",
    "but in addition you also have to provide a list columns you are interested in.\n",
    "To know, what columns you can choose from, you can use this [link](https://www.uniprot.org/help/uniprotkb_column_names)"
   ]
  },
  {
   "cell_type": "code",
   "execution_count": 10,
   "metadata": {
    "Collapsed": "false"
   },
   "outputs": [
    {
     "data": {
      "text/plain": [
       "'humanProteins.tab'"
      ]
     },
     "execution_count": 10,
     "metadata": {},
     "output_type": "execute_result"
    }
   ],
   "source": [
    "QUERY='reviewed:yes AND organism:\"Homo sapiens (Human) [9606]\"'\n",
    "COLUMNS='id,length,entry name,genes,comment(SUBCELLULAR LOCATION)'\n",
    "FORMAT = 'tab'                               \n",
    "filename = 'humanProteins.tab'\n",
    "\n",
    "uniprotDownload(filename,format=FORMAT, query=QUERY, columns=COLUMNS)"
   ]
  },
  {
   "cell_type": "markdown",
   "metadata": {
    "Collapsed": "false"
   },
   "source": [
    "### Exercise 1.5.a"
   ]
  },
  {
   "cell_type": "markdown",
   "metadata": {
    "Collapsed": "false"
   },
   "source": [
    "Download all proteins of the organism **sars-cov** in **tab** format.\n",
    "Display the the **id, protein name, gene name,** and **Mapped PubMed ID**."
   ]
  },
  {
   "cell_type": "code",
   "execution_count": null,
   "metadata": {
    "Collapsed": "false"
   },
   "outputs": [],
   "source": [
    "QUERY=''\n",
    "COLUMNS=''\n",
    "FORMAT = ''                               \n",
    "filename = ''\n",
    "\n",
    "uniprotDownload(filename,format=FORMAT, query=QUERY, columns=COLUMNS)"
   ]
  },
  {
   "cell_type": "markdown",
   "metadata": {
    "Collapsed": "false"
   },
   "source": [
    "click dots for solution"
   ]
  },
  {
   "cell_type": "code",
   "execution_count": 11,
   "metadata": {
    "Collapsed": "false",
    "collapsed": true,
    "jupyter": {
     "outputs_hidden": true,
     "source_hidden": true
    }
   },
   "outputs": [
    {
     "data": {
      "text/plain": [
       "'coronaVirusCitations.tab'"
      ]
     },
     "execution_count": 11,
     "metadata": {},
     "output_type": "execute_result"
    }
   ],
   "source": [
    "QUERY='organism:\"Human SARS coronavirus (SARS-CoV) (Severe acute respiratory syndrome coronavirus) [694009]\"'\n",
    "COLUMNS='id,entry name,genes,citationmapping'\n",
    "FORMAT = 'tab'                               \n",
    "filename = 'coronaVirusCitations.tab'\n",
    "\n",
    "uniprotDownload(filename,format=FORMAT, query=QUERY, columns=COLUMNS)"
   ]
  },
  {
   "cell_type": "markdown",
   "metadata": {
    "Collapsed": "false"
   },
   "source": [
    "### Exercise 1.5.b"
   ]
  },
  {
   "cell_type": "markdown",
   "metadata": {
    "Collapsed": "false"
   },
   "source": [
    "Download all **E.coli (strain K12)** proteins and display **id, gene name,** and whether or not there is a **signal peptide**."
   ]
  },
  {
   "cell_type": "code",
   "execution_count": null,
   "metadata": {
    "Collapsed": "false"
   },
   "outputs": [],
   "source": [
    "QUERY=''\n",
    "COLUMNS=''\n",
    "FORMAT = ''                               \n",
    "filename = ''\n",
    "\n",
    "uniprotDownload(filename,format=FORMAT, query=QUERY, columns=COLUMNS)"
   ]
  },
  {
   "cell_type": "markdown",
   "metadata": {
    "Collapsed": "false"
   },
   "source": [
    "click dots for solution"
   ]
  },
  {
   "cell_type": "code",
   "execution_count": 12,
   "metadata": {
    "Collapsed": "false",
    "collapsed": true,
    "jupyter": {
     "outputs_hidden": true,
     "source_hidden": true
    }
   },
   "outputs": [
    {
     "data": {
      "text/plain": [
       "'EcoliSignalPeptide.tab'"
      ]
     },
     "execution_count": 12,
     "metadata": {},
     "output_type": "execute_result"
    }
   ],
   "source": [
    "QUERY='organism:\"Escherichia coli (strain K12) [83333]\"'\n",
    "COLUMNS='id,length,entry name,genes,feature(SIGNAL)'\n",
    "FORMAT = 'tab'                               \n",
    "filename = 'EcoliSignalPeptide.tab'\n",
    "\n",
    "uniprotDownload(filename,format=FORMAT, query=QUERY, columns=COLUMNS)"
   ]
  },
  {
   "cell_type": "markdown",
   "metadata": {
    "Collapsed": "false"
   },
   "source": [
    "# References\n",
    "\n",
    "1. [UniProt: the universal protein knowledgebase. Nucleic acids research, 2017, 45.D1: D158-D169.](https://academic.oup.com/nar/article/45/D1/D158/2605721)\n",
    "2. [Uniprot website](https://www.uniprot.org/)\n",
    "3. [Uniprot help page on API](https://www.uniprot.org/help/api%5Fqueries)\n",
    "4. [column names](https://www.uniprot.org/help/uniprotkb_column_names)"
   ]
  }
 ],
 "metadata": {
  "kernelspec": {
   "display_name": "Python 3",
   "language": "python",
   "name": "python3"
  },
  "language_info": {
   "codemirror_mode": {
    "name": "ipython",
    "version": 3
   },
   "file_extension": ".py",
   "mimetype": "text/x-python",
   "name": "python",
   "nbconvert_exporter": "python",
   "pygments_lexer": "ipython3",
   "version": "3.7.4"
  },
  "toc-autonumbering": false
 },
 "nbformat": 4,
 "nbformat_minor": 4
}
